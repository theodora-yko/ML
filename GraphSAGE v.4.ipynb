{
 "cells": [
  {
   "cell_type": "markdown",
   "id": "fc626f03",
   "metadata": {},
   "source": [
    "# READ_ME\n",
    "\n",
    "- adapated example from Pytorch.Geometric website using GraphSAGE instead of GCN\n",
    "- datasets from Cora, CiteSeer, PubMed \n",
    "- loss function: cross_entropy()  (**note)** the example uses nll instead but this returns a very low accuracy as it requires more preprocessing of the data)\n",
    "- lr: tried 0.01, 0.001, epoch: tried 200, 500"
   ]
  },
  {
   "cell_type": "markdown",
   "id": "8d7ce9db",
   "metadata": {},
   "source": [
    "## libraries"
   ]
  },
  {
   "cell_type": "code",
   "execution_count": 3,
   "id": "43cd4799",
   "metadata": {},
   "outputs": [],
   "source": [
    "# libraries\n",
    "import torch\n",
    "from torch_geometric.data import Data\n",
    "import pandas as pd \n",
    "from torch_geometric.transforms import RandomLinkSplit, RandomNodeSplit  \n",
    "import torch.nn.functional as F\n",
    "import torch.nn\n",
    "from torch_geometric.nn import SAGEConv\n",
    "import matplotlib.pyplot as plt\n",
    "\n",
    "#datasets\n",
    "from torch_geometric.datasets import AttributedGraphDataset\n",
    "from torch_geometric.datasets import Planetoid \n",
    "from torch_geometric.transforms import NormalizeFeatures\n",
    "\n",
    "# evaluation \n",
    "from sklearn.metrics import confusion_matrix\n",
    "from sklearn.decomposition import PCA"
   ]
  },
  {
   "cell_type": "markdown",
   "id": "63cda947",
   "metadata": {},
   "source": [
    "## data"
   ]
  },
  {
   "cell_type": "code",
   "execution_count": 7,
   "id": "22499a36",
   "metadata": {},
   "outputs": [],
   "source": [
    "## define transform_nodes\n",
    "transform_nodes = RandomNodeSplit(split = 'test_rest') # RandomNodeSplit is a class "
   ]
  },
  {
   "cell_type": "code",
   "execution_count": 8,
   "id": "feb66abb",
   "metadata": {},
   "outputs": [],
   "source": [
    "# v.3: split into training and testing data points\n",
    "# v.4: mask one datapoint in the training set and try running again\n",
    "# caution use data not a dataset \n",
    "cora_A_data = transform_nodes(cora_A[0])\n",
    "citeseer_A_data = transform_nodes(citeseer_A[0])\n",
    "pubmed_A_data = transform_nodes(pubmed_A[0]) # caution, don't reiterate"
   ]
  },
  {
   "cell_type": "markdown",
   "id": "15a3731e",
   "metadata": {},
   "source": [
    "## algorithm"
   ]
  },
  {
   "cell_type": "code",
   "execution_count": 4,
   "id": "c421af44",
   "metadata": {},
   "outputs": [],
   "source": [
    "# download datasets\n",
    "datasets = ['cora_A', 'citeseer_A', 'pubmed_A', 'cora_P', 'citeseer_P', 'pubmed_P']\n",
    "\n",
    "# AGD\n",
    "cora_A = AttributedGraphDataset(root='AGD', name='Cora')\n",
    "citeseer_A = AttributedGraphDataset(root='AGD', name='CiteSeer')\n",
    "pubmed_A =  AttributedGraphDataset(root='AGD', name='PubMed')\n",
    "\n",
    "# planetoid\n",
    "cora_P = Planetoid(root='Planetoid', name='Cora', transform=NormalizeFeatures())\n",
    "citeseer_P = Planetoid(root='Planetoid', name='CiteSeer',transform=NormalizeFeatures())\n",
    "pubmed_P =  Planetoid(root='Planetoid', name='PubMed',transform=NormalizeFeatures())"
   ]
  },
  {
   "cell_type": "code",
   "execution_count": 5,
   "id": "9cc5c0b6",
   "metadata": {},
   "outputs": [],
   "source": [
    "#implement a two-layer GraphSage from GCN example:\n",
    "\n",
    "class GraphSage(torch.nn.Module):\n",
    "    def __init__(self, attributes, classes, dimension=32):\n",
    "        super(GraphSage, self).__init__() \n",
    "        self.conv1 = SAGEConv(attributes, dimension) \n",
    "        self.conv2 = SAGEConv(dimension, classes)\n",
    "    \n",
    "    def forward(self, data):\n",
    "        x, edge_index = data.x, data.edge_index \n",
    "\n",
    "        x = self.conv1(x, edge_index) #layer 1 \n",
    "        x = F.relu(x)\n",
    "        x = F.dropout(x, training=self.training) #layer 2 \n",
    "        x = self.conv2(x, edge_index)\n",
    "\n",
    "        return x"
   ]
  },
  {
   "cell_type": "code",
   "execution_count": 32,
   "id": "19e50ea9",
   "metadata": {},
   "outputs": [],
   "source": [
    "## training & evaluating \n",
    "\n",
    "class accuracy():\n",
    "    def __init__(self, device, dataset, data):\n",
    "        self.model = GraphSage(dataset.num_node_features, dataset.num_classes).to(device)\n",
    "        self.data = data\n",
    "    \n",
    "    def train(self, num_epochs, lr=0.001, plot_a_graph=False):\n",
    "        loss_vals= []\n",
    "        valid_vals= []\n",
    "        optimizer = torch.optim.Adam(self.model.parameters(), lr, weight_decay=5e-4)\n",
    "        \n",
    "        print('             \\nTraining the model\\n')\n",
    "\n",
    "        ## training \n",
    "        for epoch in range(num_epochs): \n",
    "            optimizer.zero_grad()\n",
    "            out = self.model(self.data)\n",
    "            loss = F.cross_entropy(out[self.data.train_mask], self.data.y[self.data.train_mask]) \n",
    "            loss_vals.append(loss.item()) #record training loss for each epoch\n",
    "            loss.backward()\n",
    "            optimizer.step()\n",
    "            \n",
    "            # record validation loss for each epoch\n",
    "            self.model.eval()\n",
    "            pred = self.model(self.data).argmax(dim=1)        \n",
    "            correct = (pred[self.data.val_mask] == self.data.y[self.data.val_mask]).sum()\n",
    "            acc = int(correct) / int(self.data.val_mask.sum())\n",
    "            valid_vals.append(acc)\n",
    "        \n",
    "        if plot_a_graph:\n",
    "            # plotting the loss vs epochs\n",
    "            x = range(num_epochs)\n",
    "            plt.plot(x, loss_vals, linestyle=\"-\")\n",
    "            plt.plot(x, valid_vals, linestyle=\"-\")\n",
    "            plt.xlabel(\"epoch\")\n",
    "            plt.ylabel(\"loss\")\n",
    "#             plt.show\n",
    "            return(plt)\n",
    "    \n",
    "    def evaluate(self, dimension=1, write_confusion=False):\n",
    "        # returns a confusion matrix if set write_confusion=True\n",
    "        print('             \\nEvaluating the model\\n')\n",
    "        self.model.eval()\n",
    "        pred = self.model(self.data).argmax(dimension)        \n",
    "        correct = (pred[self.data.test_mask] == self.data.y[self.data.test_mask]).sum()\n",
    "        acc = int(correct) / int(self.data.test_mask.sum())\n",
    "        print(f'Accuracy: {acc:.4f}')\n",
    "\n",
    "        if write_confusion: \n",
    "            new = confusion_matrix(self.data.y[self.data.test_mask].numpy(), pred[self.data.test_mask].numpy(), normalize='true')\n",
    "            return(pd.DataFrame(data=new))"
   ]
  },
  {
   "cell_type": "code",
   "execution_count": 33,
   "id": "71b00b64",
   "metadata": {},
   "outputs": [],
   "source": [
    "## run_pca\n",
    "def run_pca(data):\n",
    "    df = pd.DataFrame()\n",
    "    pca = PCA(n_components=2)\n",
    "    pca_result = pca.fit_transform(data)\n",
    "    df['pca-one'] = pca_result[:,0]\n",
    "    df['pca-two'] = pca_result[:,1] \n",
    "    display(df)\n",
    "    X = pca_result.T[0] ##reason for transpose?\n",
    "    y = pca_result.T[1]\n",
    "    plt.scatter(X, y, s=100, color=\"skyblue\")"
   ]
  },
  {
   "cell_type": "markdown",
   "id": "69e3493d",
   "metadata": {},
   "source": [
    "## training\n",
    "* learning rate = 0.01, 0.001"
   ]
  },
  {
   "cell_type": "code",
   "execution_count": 9,
   "id": "7b58a1f1",
   "metadata": {
    "scrolled": true
   },
   "outputs": [
    {
     "name": "stdout",
     "output_type": "stream",
     "text": [
      "             \n",
      "Training the model\n",
      "\n",
      "             \n",
      "Evaluating the model\n",
      "\n",
      "Accuracy: 0.6857\n"
     ]
    },
    {
     "data": {
      "text/html": [
       "<div>\n",
       "<style scoped>\n",
       "    .dataframe tbody tr th:only-of-type {\n",
       "        vertical-align: middle;\n",
       "    }\n",
       "\n",
       "    .dataframe tbody tr th {\n",
       "        vertical-align: top;\n",
       "    }\n",
       "\n",
       "    .dataframe thead th {\n",
       "        text-align: right;\n",
       "    }\n",
       "</style>\n",
       "<table border=\"1\" class=\"dataframe\">\n",
       "  <thead>\n",
       "    <tr style=\"text-align: right;\">\n",
       "      <th></th>\n",
       "      <th>0</th>\n",
       "      <th>1</th>\n",
       "      <th>2</th>\n",
       "      <th>3</th>\n",
       "      <th>4</th>\n",
       "      <th>5</th>\n",
       "      <th>6</th>\n",
       "    </tr>\n",
       "  </thead>\n",
       "  <tbody>\n",
       "    <tr>\n",
       "      <th>0</th>\n",
       "      <td>0.579545</td>\n",
       "      <td>0.026515</td>\n",
       "      <td>0.037879</td>\n",
       "      <td>0.083333</td>\n",
       "      <td>0.015152</td>\n",
       "      <td>0.068182</td>\n",
       "      <td>0.189394</td>\n",
       "    </tr>\n",
       "    <tr>\n",
       "      <th>1</th>\n",
       "      <td>0.018987</td>\n",
       "      <td>0.772152</td>\n",
       "      <td>0.075949</td>\n",
       "      <td>0.031646</td>\n",
       "      <td>0.000000</td>\n",
       "      <td>0.056962</td>\n",
       "      <td>0.044304</td>\n",
       "    </tr>\n",
       "    <tr>\n",
       "      <th>2</th>\n",
       "      <td>0.006231</td>\n",
       "      <td>0.034268</td>\n",
       "      <td>0.859813</td>\n",
       "      <td>0.043614</td>\n",
       "      <td>0.015576</td>\n",
       "      <td>0.028037</td>\n",
       "      <td>0.012461</td>\n",
       "    </tr>\n",
       "    <tr>\n",
       "      <th>3</th>\n",
       "      <td>0.106646</td>\n",
       "      <td>0.044822</td>\n",
       "      <td>0.032457</td>\n",
       "      <td>0.582689</td>\n",
       "      <td>0.129830</td>\n",
       "      <td>0.068006</td>\n",
       "      <td>0.035549</td>\n",
       "    </tr>\n",
       "    <tr>\n",
       "      <th>4</th>\n",
       "      <td>0.067278</td>\n",
       "      <td>0.012232</td>\n",
       "      <td>0.021407</td>\n",
       "      <td>0.042813</td>\n",
       "      <td>0.691131</td>\n",
       "      <td>0.107034</td>\n",
       "      <td>0.058104</td>\n",
       "    </tr>\n",
       "    <tr>\n",
       "      <th>5</th>\n",
       "      <td>0.097222</td>\n",
       "      <td>0.037037</td>\n",
       "      <td>0.027778</td>\n",
       "      <td>0.013889</td>\n",
       "      <td>0.032407</td>\n",
       "      <td>0.712963</td>\n",
       "      <td>0.078704</td>\n",
       "    </tr>\n",
       "    <tr>\n",
       "      <th>6</th>\n",
       "      <td>0.074074</td>\n",
       "      <td>0.000000</td>\n",
       "      <td>0.022222</td>\n",
       "      <td>0.007407</td>\n",
       "      <td>0.014815</td>\n",
       "      <td>0.066667</td>\n",
       "      <td>0.814815</td>\n",
       "    </tr>\n",
       "  </tbody>\n",
       "</table>\n",
       "</div>"
      ],
      "text/plain": [
       "          0         1         2         3         4         5         6\n",
       "0  0.579545  0.026515  0.037879  0.083333  0.015152  0.068182  0.189394\n",
       "1  0.018987  0.772152  0.075949  0.031646  0.000000  0.056962  0.044304\n",
       "2  0.006231  0.034268  0.859813  0.043614  0.015576  0.028037  0.012461\n",
       "3  0.106646  0.044822  0.032457  0.582689  0.129830  0.068006  0.035549\n",
       "4  0.067278  0.012232  0.021407  0.042813  0.691131  0.107034  0.058104\n",
       "5  0.097222  0.037037  0.027778  0.013889  0.032407  0.712963  0.078704\n",
       "6  0.074074  0.000000  0.022222  0.007407  0.014815  0.066667  0.814815"
      ]
     },
     "execution_count": 9,
     "metadata": {},
     "output_type": "execute_result"
    },
    {
     "data": {
      "image/png": "[encoded data removed]",
      "text/plain": [
       "<Figure size 432x288 with 1 Axes>"
      ]
     },
     "metadata": {
      "needs_background": "light"
     },
     "output_type": "display_data"
    }
   ],
   "source": [
    "#cora_A \n",
    "device1A = torch.device('cuda' if torch.cuda.is_available() else 'cpu')\n",
    "dataset1A = cora_A\n",
    "data1A = cora_A_data.to(device1A)\n",
    "cora_A0 = accuracy(device1A, dataset1A, data1A)\n",
    "cora_A0.train(500, plot_a_graph=True) \n",
    "# 7 by 7 matrix (7 classes), each row represents a class, on the columns, predicted group 1 - 7\n",
    "# e.g. row 1, nothing is predicted to be in group 5 and 6"
   ]
  },
  {
   "cell_type": "code",
   "execution_count": 36,
   "id": "60e41623",
   "metadata": {},
   "outputs": [
    {
     "name": "stdout",
     "output_type": "stream",
     "text": [
      "             \n",
      "Evaluating the model\n",
      "\n",
      "Accuracy: 0.6857\n"
     ]
    },
    {
     "data": {
      "text/html": [
       "<div>\n",
       "<style scoped>\n",
       "    .dataframe tbody tr th:only-of-type {\n",
       "        vertical-align: middle;\n",
       "    }\n",
       "\n",
       "    .dataframe tbody tr th {\n",
       "        vertical-align: top;\n",
       "    }\n",
       "\n",
       "    .dataframe thead th {\n",
       "        text-align: right;\n",
       "    }\n",
       "</style>\n",
       "<table border=\"1\" class=\"dataframe\">\n",
       "  <thead>\n",
       "    <tr style=\"text-align: right;\">\n",
       "      <th></th>\n",
       "      <th>pca-one</th>\n",
       "      <th>pca-two</th>\n",
       "    </tr>\n",
       "  </thead>\n",
       "  <tbody>\n",
       "    <tr>\n",
       "      <th>0</th>\n",
       "      <td>-0.187243</td>\n",
       "      <td>-0.082417</td>\n",
       "    </tr>\n",
       "    <tr>\n",
       "      <th>1</th>\n",
       "      <td>0.223984</td>\n",
       "      <td>0.440975</td>\n",
       "    </tr>\n",
       "    <tr>\n",
       "      <th>2</th>\n",
       "      <td>0.663299</td>\n",
       "      <td>-0.372954</td>\n",
       "    </tr>\n",
       "    <tr>\n",
       "      <th>3</th>\n",
       "      <td>-0.022524</td>\n",
       "      <td>0.134985</td>\n",
       "    </tr>\n",
       "    <tr>\n",
       "      <th>4</th>\n",
       "      <td>-0.110265</td>\n",
       "      <td>0.170460</td>\n",
       "    </tr>\n",
       "    <tr>\n",
       "      <th>5</th>\n",
       "      <td>-0.147211</td>\n",
       "      <td>0.120079</td>\n",
       "    </tr>\n",
       "    <tr>\n",
       "      <th>6</th>\n",
       "      <td>-0.420039</td>\n",
       "      <td>-0.411128</td>\n",
       "    </tr>\n",
       "  </tbody>\n",
       "</table>\n",
       "</div>"
      ],
      "text/plain": [
       "    pca-one   pca-two\n",
       "0 -0.187243 -0.082417\n",
       "1  0.223984  0.440975\n",
       "2  0.663299 -0.372954\n",
       "3 -0.022524  0.134985\n",
       "4 -0.110265  0.170460\n",
       "5 -0.147211  0.120079\n",
       "6 -0.420039 -0.411128"
      ]
     },
     "metadata": {},
     "output_type": "display_data"
    },
    {
     "data": {
      "image/png": "[encoded data removed]",
      "text/plain": [
       "<Figure size 432x288 with 1 Axes>"
      ]
     },
     "metadata": {
      "needs_background": "light"
     },
     "output_type": "display_data"
    }
   ],
   "source": [
    "data = cora_A0.evaluate(write_confusion=True)\n",
    "run_pca(data)"
   ]
  },
  {
   "cell_type": "code",
   "execution_count": 41,
   "id": "46eb99bb",
   "metadata": {
    "scrolled": true
   },
   "outputs": [
    {
     "name": "stdout",
     "output_type": "stream",
     "text": [
      "             \n",
      "Training the model\n",
      "\n"
     ]
    }
   ],
   "source": [
    "#cora_P\n",
    "device1P = torch.device('cuda' if torch.cuda.is_available() else 'cpu')\n",
    "dataset1P = cora_P\n",
    "data1P = cora_P[0].to(device1P)\n",
    "cora_P0 = accuracy(device1P, dataset1P, data1P)\n",
    "cora_P0.train(500)\n",
    "# cora_P0.evaluate() "
   ]
  },
  {
   "cell_type": "code",
   "execution_count": 42,
   "id": "bc9d3f1c",
   "metadata": {},
   "outputs": [
    {
     "name": "stdout",
     "output_type": "stream",
     "text": [
      "             \n",
      "Evaluating the model\n",
      "\n",
      "Accuracy: 0.7980\n"
     ]
    },
    {
     "data": {
      "text/html": [
       "<div>\n",
       "<style scoped>\n",
       "    .dataframe tbody tr th:only-of-type {\n",
       "        vertical-align: middle;\n",
       "    }\n",
       "\n",
       "    .dataframe tbody tr th {\n",
       "        vertical-align: top;\n",
       "    }\n",
       "\n",
       "    .dataframe thead th {\n",
       "        text-align: right;\n",
       "    }\n",
       "</style>\n",
       "<table border=\"1\" class=\"dataframe\">\n",
       "  <thead>\n",
       "    <tr style=\"text-align: right;\">\n",
       "      <th></th>\n",
       "      <th>pca-one</th>\n",
       "      <th>pca-two</th>\n",
       "    </tr>\n",
       "  </thead>\n",
       "  <tbody>\n",
       "    <tr>\n",
       "      <th>0</th>\n",
       "      <td>-0.240038</td>\n",
       "      <td>-0.008116</td>\n",
       "    </tr>\n",
       "    <tr>\n",
       "      <th>1</th>\n",
       "      <td>0.547700</td>\n",
       "      <td>0.324491</td>\n",
       "    </tr>\n",
       "    <tr>\n",
       "      <th>2</th>\n",
       "      <td>0.465192</td>\n",
       "      <td>-0.195842</td>\n",
       "    </tr>\n",
       "    <tr>\n",
       "      <th>3</th>\n",
       "      <td>-0.054188</td>\n",
       "      <td>-0.316244</td>\n",
       "    </tr>\n",
       "    <tr>\n",
       "      <th>4</th>\n",
       "      <td>-0.211610</td>\n",
       "      <td>-0.458057</td>\n",
       "    </tr>\n",
       "    <tr>\n",
       "      <th>5</th>\n",
       "      <td>-0.139821</td>\n",
       "      <td>0.164688</td>\n",
       "    </tr>\n",
       "    <tr>\n",
       "      <th>6</th>\n",
       "      <td>-0.367235</td>\n",
       "      <td>0.489080</td>\n",
       "    </tr>\n",
       "  </tbody>\n",
       "</table>\n",
       "</div>"
      ],
      "text/plain": [
       "    pca-one   pca-two\n",
       "0 -0.240038 -0.008116\n",
       "1  0.547700  0.324491\n",
       "2  0.465192 -0.195842\n",
       "3 -0.054188 -0.316244\n",
       "4 -0.211610 -0.458057\n",
       "5 -0.139821  0.164688\n",
       "6 -0.367235  0.489080"
      ]
     },
     "metadata": {},
     "output_type": "display_data"
    },
    {
     "data": {
      "image/png": "[encoded data removed]",
      "text/plain": [
       "<Figure size 432x288 with 1 Axes>"
      ]
     },
     "metadata": {
      "needs_background": "light"
     },
     "output_type": "display_data"
    }
   ],
   "source": [
    "data = cora_P0.evaluate(write_confusion=True)\n",
    "run_pca(data)"
   ]
  },
  {
   "cell_type": "code",
   "execution_count": 43,
   "id": "8b90ec0d",
   "metadata": {},
   "outputs": [
    {
     "name": "stdout",
     "output_type": "stream",
     "text": [
      "             \n",
      "Training the model\n",
      "\n"
     ]
    }
   ],
   "source": [
    "#citeseer_A\n",
    "device2A = torch.device('cuda ' if torch.cuda.is_available() else 'cpu')\n",
    "dataset2A = citeseer_A\n",
    "data2A = citeseer_A_data.to(device2A)\n",
    "citeseer_A0 = accuracy(device2A, dataset2A, data2A)\n",
    "citeseer_A0.train(500, True)\n",
    "# citeseer_A0.evaluate()"
   ]
  },
  {
   "cell_type": "code",
   "execution_count": 44,
   "id": "c7d5d652",
   "metadata": {},
   "outputs": [
    {
     "name": "stdout",
     "output_type": "stream",
     "text": [
      "             \n",
      "Evaluating the model\n",
      "\n",
      "Accuracy: 0.2385\n"
     ]
    },
    {
     "data": {
      "text/html": [
       "<div>\n",
       "<style scoped>\n",
       "    .dataframe tbody tr th:only-of-type {\n",
       "        vertical-align: middle;\n",
       "    }\n",
       "\n",
       "    .dataframe tbody tr th {\n",
       "        vertical-align: top;\n",
       "    }\n",
       "\n",
       "    .dataframe thead th {\n",
       "        text-align: right;\n",
       "    }\n",
       "</style>\n",
       "<table border=\"1\" class=\"dataframe\">\n",
       "  <thead>\n",
       "    <tr style=\"text-align: right;\">\n",
       "      <th></th>\n",
       "      <th>pca-one</th>\n",
       "      <th>pca-two</th>\n",
       "    </tr>\n",
       "  </thead>\n",
       "  <tbody>\n",
       "    <tr>\n",
       "      <th>0</th>\n",
       "      <td>-0.056284</td>\n",
       "      <td>-0.034063</td>\n",
       "    </tr>\n",
       "    <tr>\n",
       "      <th>1</th>\n",
       "      <td>-0.082069</td>\n",
       "      <td>-0.036431</td>\n",
       "    </tr>\n",
       "    <tr>\n",
       "      <th>2</th>\n",
       "      <td>-0.031303</td>\n",
       "      <td>0.140323</td>\n",
       "    </tr>\n",
       "    <tr>\n",
       "      <th>3</th>\n",
       "      <td>-0.094016</td>\n",
       "      <td>-0.016296</td>\n",
       "    </tr>\n",
       "    <tr>\n",
       "      <th>4</th>\n",
       "      <td>0.339809</td>\n",
       "      <td>-0.014720</td>\n",
       "    </tr>\n",
       "    <tr>\n",
       "      <th>5</th>\n",
       "      <td>-0.076137</td>\n",
       "      <td>-0.038814</td>\n",
       "    </tr>\n",
       "  </tbody>\n",
       "</table>\n",
       "</div>"
      ],
      "text/plain": [
       "    pca-one   pca-two\n",
       "0 -0.056284 -0.034063\n",
       "1 -0.082069 -0.036431\n",
       "2 -0.031303  0.140323\n",
       "3 -0.094016 -0.016296\n",
       "4  0.339809 -0.014720\n",
       "5 -0.076137 -0.038814"
      ]
     },
     "metadata": {},
     "output_type": "display_data"
    },
    {
     "data": {
      "image/png": "[encoded data removed]",
      "text/plain": [
       "<Figure size 432x288 with 1 Axes>"
      ]
     },
     "metadata": {
      "needs_background": "light"
     },
     "output_type": "display_data"
    }
   ],
   "source": [
    "data=citeseer_A0.evaluate(write_confusion=True)\n",
    "run_pca(data)"
   ]
  },
  {
   "cell_type": "code",
   "execution_count": 45,
   "id": "63a5aa54",
   "metadata": {
    "scrolled": true
   },
   "outputs": [
    {
     "name": "stdout",
     "output_type": "stream",
     "text": [
      "             \n",
      "Training the model\n",
      "\n"
     ]
    }
   ],
   "source": [
    "#citeseer_p\n",
    "device2P = torch.device('cuda' if torch.cuda.is_available() else 'cpu')\n",
    "dataset2P = citeseer_P\n",
    "data2P = citeseer_P[0].to(device2P)\n",
    "citeseer_P0 = accuracy(device2P, dataset2P, data2P)\n",
    "citeseer_P0.train(500)"
   ]
  },
  {
   "cell_type": "code",
   "execution_count": 46,
   "id": "6b662908",
   "metadata": {},
   "outputs": [
    {
     "name": "stdout",
     "output_type": "stream",
     "text": [
      "             \n",
      "Evaluating the model\n",
      "\n",
      "Accuracy: 0.6900\n"
     ]
    },
    {
     "data": {
      "text/html": [
       "<div>\n",
       "<style scoped>\n",
       "    .dataframe tbody tr th:only-of-type {\n",
       "        vertical-align: middle;\n",
       "    }\n",
       "\n",
       "    .dataframe tbody tr th {\n",
       "        vertical-align: top;\n",
       "    }\n",
       "\n",
       "    .dataframe thead th {\n",
       "        text-align: right;\n",
       "    }\n",
       "</style>\n",
       "<table border=\"1\" class=\"dataframe\">\n",
       "  <thead>\n",
       "    <tr style=\"text-align: right;\">\n",
       "      <th></th>\n",
       "      <th>pca-one</th>\n",
       "      <th>pca-two</th>\n",
       "    </tr>\n",
       "  </thead>\n",
       "  <tbody>\n",
       "    <tr>\n",
       "      <th>0</th>\n",
       "      <td>0.003407</td>\n",
       "      <td>-0.027584</td>\n",
       "    </tr>\n",
       "    <tr>\n",
       "      <th>1</th>\n",
       "      <td>-0.103836</td>\n",
       "      <td>-0.204359</td>\n",
       "    </tr>\n",
       "    <tr>\n",
       "      <th>2</th>\n",
       "      <td>-0.380539</td>\n",
       "      <td>-0.145688</td>\n",
       "    </tr>\n",
       "    <tr>\n",
       "      <th>3</th>\n",
       "      <td>-0.229365</td>\n",
       "      <td>-0.057029</td>\n",
       "    </tr>\n",
       "    <tr>\n",
       "      <th>4</th>\n",
       "      <td>0.670447</td>\n",
       "      <td>-0.169663</td>\n",
       "    </tr>\n",
       "    <tr>\n",
       "      <th>5</th>\n",
       "      <td>0.039886</td>\n",
       "      <td>0.604324</td>\n",
       "    </tr>\n",
       "  </tbody>\n",
       "</table>\n",
       "</div>"
      ],
      "text/plain": [
       "    pca-one   pca-two\n",
       "0  0.003407 -0.027584\n",
       "1 -0.103836 -0.204359\n",
       "2 -0.380539 -0.145688\n",
       "3 -0.229365 -0.057029\n",
       "4  0.670447 -0.169663\n",
       "5  0.039886  0.604324"
      ]
     },
     "metadata": {},
     "output_type": "display_data"
    },
    {
     "data": {
      "image/png": "[encoded data removed]",
      "text/plain": [
       "<Figure size 432x288 with 1 Axes>"
      ]
     },
     "metadata": {
      "needs_background": "light"
     },
     "output_type": "display_data"
    }
   ],
   "source": [
    "data=citeseer_P0.evaluate(write_confusion=True)\n",
    "run_pca(data)"
   ]
  },
  {
   "cell_type": "code",
   "execution_count": 47,
   "id": "023869ea",
   "metadata": {
    "scrolled": true
   },
   "outputs": [
    {
     "name": "stdout",
     "output_type": "stream",
     "text": [
      "             \n",
      "Training the model\n",
      "\n"
     ]
    }
   ],
   "source": [
    "#pubmed_A\n",
    "device3A = torch.device('cuda' if torch.cuda.is_available() else 'cpu')\n",
    "dataset3A = pubmed_A\n",
    "data2A = pubmed_A_data.to(device3A)\n",
    "pubmed_A0 = accuracy(device3A, dataset3A, data2A)\n",
    "pubmed_A0.train(500)"
   ]
  },
  {
   "cell_type": "code",
   "execution_count": 48,
   "id": "525338d9",
   "metadata": {},
   "outputs": [
    {
     "name": "stdout",
     "output_type": "stream",
     "text": [
      "             \n",
      "Evaluating the model\n",
      "\n",
      "Accuracy: 0.6719\n"
     ]
    },
    {
     "data": {
      "text/html": [
       "<div>\n",
       "<style scoped>\n",
       "    .dataframe tbody tr th:only-of-type {\n",
       "        vertical-align: middle;\n",
       "    }\n",
       "\n",
       "    .dataframe tbody tr th {\n",
       "        vertical-align: top;\n",
       "    }\n",
       "\n",
       "    .dataframe thead th {\n",
       "        text-align: right;\n",
       "    }\n",
       "</style>\n",
       "<table border=\"1\" class=\"dataframe\">\n",
       "  <thead>\n",
       "    <tr style=\"text-align: right;\">\n",
       "      <th></th>\n",
       "      <th>pca-one</th>\n",
       "      <th>pca-two</th>\n",
       "    </tr>\n",
       "  </thead>\n",
       "  <tbody>\n",
       "    <tr>\n",
       "      <th>0</th>\n",
       "      <td>0.622379</td>\n",
       "      <td>-0.049905</td>\n",
       "    </tr>\n",
       "    <tr>\n",
       "      <th>1</th>\n",
       "      <td>-0.217114</td>\n",
       "      <td>0.272574</td>\n",
       "    </tr>\n",
       "    <tr>\n",
       "      <th>2</th>\n",
       "      <td>-0.405265</td>\n",
       "      <td>-0.222669</td>\n",
       "    </tr>\n",
       "  </tbody>\n",
       "</table>\n",
       "</div>"
      ],
      "text/plain": [
       "    pca-one   pca-two\n",
       "0  0.622379 -0.049905\n",
       "1 -0.217114  0.272574\n",
       "2 -0.405265 -0.222669"
      ]
     },
     "metadata": {},
     "output_type": "display_data"
    },
    {
     "data": {
      "image/png": "[encoded data removed]",
      "text/plain": [
       "<Figure size 432x288 with 1 Axes>"
      ]
     },
     "metadata": {
      "needs_background": "light"
     },
     "output_type": "display_data"
    }
   ],
   "source": [
    "data=pubmed_A0.evaluate(write_confusion=True)\n",
    "run_pca(data)"
   ]
  },
  {
   "cell_type": "code",
   "execution_count": 49,
   "id": "a1bc19fd",
   "metadata": {
    "scrolled": true
   },
   "outputs": [
    {
     "name": "stdout",
     "output_type": "stream",
     "text": [
      "             \n",
      "Training the model\n",
      "\n"
     ]
    }
   ],
   "source": [
    "#pubmed_P\n",
    "device3P = torch.device('cuda' if torch.cuda.is_available() else 'cpu')\n",
    "dataset3P = pubmed_P\n",
    "data2P = pubmed_P[0].to(device3P)\n",
    "pubmed_P0 = accuracy(device3P, dataset3P, data2P)\n",
    "pubmed_P0.train(500)"
   ]
  },
  {
   "cell_type": "code",
   "execution_count": 50,
   "id": "c42a4964",
   "metadata": {
    "scrolled": true
   },
   "outputs": [
    {
     "name": "stdout",
     "output_type": "stream",
     "text": [
      "             \n",
      "Evaluating the model\n",
      "\n",
      "Accuracy: 0.7760\n"
     ]
    },
    {
     "data": {
      "text/html": [
       "<div>\n",
       "<style scoped>\n",
       "    .dataframe tbody tr th:only-of-type {\n",
       "        vertical-align: middle;\n",
       "    }\n",
       "\n",
       "    .dataframe tbody tr th {\n",
       "        vertical-align: top;\n",
       "    }\n",
       "\n",
       "    .dataframe thead th {\n",
       "        text-align: right;\n",
       "    }\n",
       "</style>\n",
       "<table border=\"1\" class=\"dataframe\">\n",
       "  <thead>\n",
       "    <tr style=\"text-align: right;\">\n",
       "      <th></th>\n",
       "      <th>pca-one</th>\n",
       "      <th>pca-two</th>\n",
       "    </tr>\n",
       "  </thead>\n",
       "  <tbody>\n",
       "    <tr>\n",
       "      <th>0</th>\n",
       "      <td>0.563727</td>\n",
       "      <td>-0.154659</td>\n",
       "    </tr>\n",
       "    <tr>\n",
       "      <th>1</th>\n",
       "      <td>-0.444304</td>\n",
       "      <td>-0.325211</td>\n",
       "    </tr>\n",
       "    <tr>\n",
       "      <th>2</th>\n",
       "      <td>-0.119423</td>\n",
       "      <td>0.479870</td>\n",
       "    </tr>\n",
       "  </tbody>\n",
       "</table>\n",
       "</div>"
      ],
      "text/plain": [
       "    pca-one   pca-two\n",
       "0  0.563727 -0.154659\n",
       "1 -0.444304 -0.325211\n",
       "2 -0.119423  0.479870"
      ]
     },
     "metadata": {},
     "output_type": "display_data"
    },
    {
     "data": {
      "image/png": "[encoded data removed]",
      "text/plain": [
       "<Figure size 432x288 with 1 Axes>"
      ]
     },
     "metadata": {
      "needs_background": "light"
     },
     "output_type": "display_data"
    }
   ],
   "source": [
    "data=pubmed_P0.evaluate(write_confusion=True)\n",
    "run_pca(data)"
   ]
  },
  {
   "cell_type": "markdown",
   "id": "dc83f385",
   "metadata": {},
   "source": [
    "## result"
   ]
  },
  {
   "cell_type": "code",
   "execution_count": 15,
   "id": "33508277",
   "metadata": {},
   "outputs": [
    {
     "data": {
      "text/html": [
       "<div>\n",
       "<style scoped>\n",
       "    .dataframe tbody tr th:only-of-type {\n",
       "        vertical-align: middle;\n",
       "    }\n",
       "\n",
       "    .dataframe tbody tr th {\n",
       "        vertical-align: top;\n",
       "    }\n",
       "\n",
       "    .dataframe thead th {\n",
       "        text-align: right;\n",
       "    }\n",
       "</style>\n",
       "<table border=\"1\" class=\"dataframe\">\n",
       "  <thead>\n",
       "    <tr style=\"text-align: right;\">\n",
       "      <th></th>\n",
       "      <th>lr = 0.1, epoch 200, nll</th>\n",
       "      <th>lr = 0.01, epoch 500, nll</th>\n",
       "      <th>lr = 0.01, epoch 500, ce</th>\n",
       "      <th>lr = 0.01, epoch 100, ce</th>\n",
       "    </tr>\n",
       "  </thead>\n",
       "  <tbody>\n",
       "    <tr>\n",
       "      <th>cora_A</th>\n",
       "      <td>0.3013</td>\n",
       "      <td>0.1262</td>\n",
       "      <td>0.6983</td>\n",
       "      <td>0.6886</td>\n",
       "    </tr>\n",
       "    <tr>\n",
       "      <th>cora_P</th>\n",
       "      <td>0.1440</td>\n",
       "      <td>0.0910</td>\n",
       "      <td>0.7940</td>\n",
       "      <td>0.7670</td>\n",
       "    </tr>\n",
       "    <tr>\n",
       "      <th>citeseer_A</th>\n",
       "      <td>0.1579</td>\n",
       "      <td>0.1371</td>\n",
       "      <td>0.5490</td>\n",
       "      <td>0.5669</td>\n",
       "    </tr>\n",
       "    <tr>\n",
       "      <th>citeseer_P</th>\n",
       "      <td>0.0780</td>\n",
       "      <td>0.0770</td>\n",
       "      <td>0.7130</td>\n",
       "      <td>0.6150</td>\n",
       "    </tr>\n",
       "    <tr>\n",
       "      <th>pubmed_A</th>\n",
       "      <td>0.3870</td>\n",
       "      <td>0.3997</td>\n",
       "      <td>0.7364</td>\n",
       "      <td>0.7021</td>\n",
       "    </tr>\n",
       "    <tr>\n",
       "      <th>pubmed_P</th>\n",
       "      <td>0.4070</td>\n",
       "      <td>0.4130</td>\n",
       "      <td>0.7740</td>\n",
       "      <td>0.7240</td>\n",
       "    </tr>\n",
       "  </tbody>\n",
       "</table>\n",
       "</div>"
      ],
      "text/plain": [
       "            lr = 0.1, epoch 200, nll  lr = 0.01, epoch 500, nll  \\\n",
       "cora_A                        0.3013                     0.1262   \n",
       "cora_P                        0.1440                     0.0910   \n",
       "citeseer_A                    0.1579                     0.1371   \n",
       "citeseer_P                    0.0780                     0.0770   \n",
       "pubmed_A                      0.3870                     0.3997   \n",
       "pubmed_P                      0.4070                     0.4130   \n",
       "\n",
       "            lr = 0.01, epoch 500, ce  lr = 0.01, epoch 100, ce  \n",
       "cora_A                        0.6983                    0.6886  \n",
       "cora_P                        0.7940                    0.7670  \n",
       "citeseer_A                    0.5490                    0.5669  \n",
       "citeseer_P                    0.7130                    0.6150  \n",
       "pubmed_A                      0.7364                    0.7021  \n",
       "pubmed_P                      0.7740                    0.7240  "
      ]
     },
     "metadata": {},
     "output_type": "display_data"
    }
   ],
   "source": [
    "accuracy = {'cora_A': [0.3013,  0.1262, 0.6983, 0.6886], 'cora_P': [0.1440, 0.0910, 0.7940, 0.7670], 'citeseer_A':[0.1579, 0.1371, 0.5490, 0.5669], 'citeseer_P' : [0.0780, 0.0770, 0.7130, 0.6150], 'pubmed_A':[0.3870, 0.3997, 0.7364, 0.7021], 'pubmed_P': [0.4070, 0.4130, 0.7740, 0.7240]}\n",
    "result = pd.DataFrame.from_dict(data=accuracy, orient='index', columns=['lr = 0.1, epoch 200, nll', 'lr = 0.01, epoch 500, nll', 'lr = 0.01, epoch 500, ce', 'lr = 0.01, epoch 100, ce'])\n",
    "display(result)"
   ]
  },
  {
   "cell_type": "markdown",
   "id": "b954bb8a",
   "metadata": {},
   "source": [
    "## tasks\n",
    "\n",
    "1. confusion matrix for each class, what is the accuracy vs. the miss (real class vs fake class)\n",
    " - pass everything into numpy array and use sklearn.metrics.confusion_matrix\n",
    "2. histogram according to the degree (the number of edges for each node) vs average accuracy per bucket \n",
    "3. remove one data point at a time, define a random training set and see if there is an anomaly point "
   ]
  },
  {
   "cell_type": "code",
   "execution_count": 38,
   "id": "fc2c0598",
   "metadata": {
    "scrolled": true
   },
   "outputs": [
    {
     "data": {
      "text/html": [
       "<div>\n",
       "<style scoped>\n",
       "    .dataframe tbody tr th:only-of-type {\n",
       "        vertical-align: middle;\n",
       "    }\n",
       "\n",
       "    .dataframe tbody tr th {\n",
       "        vertical-align: top;\n",
       "    }\n",
       "\n",
       "    .dataframe thead th {\n",
       "        text-align: right;\n",
       "    }\n",
       "</style>\n",
       "<table border=\"1\" class=\"dataframe\">\n",
       "  <thead>\n",
       "    <tr style=\"text-align: right;\">\n",
       "      <th></th>\n",
       "      <th>0</th>\n",
       "      <th>1</th>\n",
       "      <th>2</th>\n",
       "      <th>3</th>\n",
       "      <th>4</th>\n",
       "      <th>5</th>\n",
       "      <th>6</th>\n",
       "    </tr>\n",
       "  </thead>\n",
       "  <tbody>\n",
       "    <tr>\n",
       "      <th>0</th>\n",
       "      <td>0.757576</td>\n",
       "      <td>0.022727</td>\n",
       "      <td>0.000000</td>\n",
       "      <td>0.083333</td>\n",
       "      <td>0.083333</td>\n",
       "      <td>0.045455</td>\n",
       "      <td>0.007576</td>\n",
       "    </tr>\n",
       "    <tr>\n",
       "      <th>1</th>\n",
       "      <td>0.022989</td>\n",
       "      <td>0.816092</td>\n",
       "      <td>0.022989</td>\n",
       "      <td>0.103448</td>\n",
       "      <td>0.011494</td>\n",
       "      <td>0.022989</td>\n",
       "      <td>0.000000</td>\n",
       "    </tr>\n",
       "    <tr>\n",
       "      <th>2</th>\n",
       "      <td>0.000000</td>\n",
       "      <td>0.012422</td>\n",
       "      <td>0.857143</td>\n",
       "      <td>0.099379</td>\n",
       "      <td>0.012422</td>\n",
       "      <td>0.012422</td>\n",
       "      <td>0.006211</td>\n",
       "    </tr>\n",
       "    <tr>\n",
       "      <th>3</th>\n",
       "      <td>0.037415</td>\n",
       "      <td>0.010204</td>\n",
       "      <td>0.000000</td>\n",
       "      <td>0.891156</td>\n",
       "      <td>0.044218</td>\n",
       "      <td>0.013605</td>\n",
       "      <td>0.003401</td>\n",
       "    </tr>\n",
       "    <tr>\n",
       "      <th>4</th>\n",
       "      <td>0.019108</td>\n",
       "      <td>0.000000</td>\n",
       "      <td>0.000000</td>\n",
       "      <td>0.101911</td>\n",
       "      <td>0.840764</td>\n",
       "      <td>0.031847</td>\n",
       "      <td>0.006369</td>\n",
       "    </tr>\n",
       "    <tr>\n",
       "      <th>5</th>\n",
       "      <td>0.036364</td>\n",
       "      <td>0.027273</td>\n",
       "      <td>0.018182</td>\n",
       "      <td>0.009091</td>\n",
       "      <td>0.018182</td>\n",
       "      <td>0.863636</td>\n",
       "      <td>0.027273</td>\n",
       "    </tr>\n",
       "    <tr>\n",
       "      <th>6</th>\n",
       "      <td>0.135593</td>\n",
       "      <td>0.000000</td>\n",
       "      <td>0.000000</td>\n",
       "      <td>0.050847</td>\n",
       "      <td>0.016949</td>\n",
       "      <td>0.084746</td>\n",
       "      <td>0.711864</td>\n",
       "    </tr>\n",
       "  </tbody>\n",
       "</table>\n",
       "</div>"
      ],
      "text/plain": [
       "          0         1         2         3         4         5         6\n",
       "0  0.757576  0.022727  0.000000  0.083333  0.083333  0.045455  0.007576\n",
       "1  0.022989  0.816092  0.022989  0.103448  0.011494  0.022989  0.000000\n",
       "2  0.000000  0.012422  0.857143  0.099379  0.012422  0.012422  0.006211\n",
       "3  0.037415  0.010204  0.000000  0.891156  0.044218  0.013605  0.003401\n",
       "4  0.019108  0.000000  0.000000  0.101911  0.840764  0.031847  0.006369\n",
       "5  0.036364  0.027273  0.018182  0.009091  0.018182  0.863636  0.027273\n",
       "6  0.135593  0.000000  0.000000  0.050847  0.016949  0.084746  0.711864"
      ]
     },
     "execution_count": 38,
     "metadata": {},
     "output_type": "execute_result"
    }
   ],
   "source": [
    "pred = cora_A0.model(data1A).argmax(dim=1)\n",
    "new = confusion_matrix(data1A.y[data1A.test_mask].numpy(), pred[data1A.test_mask].numpy(), normalize='true')\n",
    "pd.DataFrame(data=new)\n",
    "# diagonal = accuracy "
   ]
  },
  {
   "cell_type": "code",
   "execution_count": 39,
   "id": "51d32637",
   "metadata": {
    "scrolled": true
   },
   "outputs": [
    {
     "data": {
      "text/html": [
       "<div>\n",
       "<style scoped>\n",
       "    .dataframe tbody tr th:only-of-type {\n",
       "        vertical-align: middle;\n",
       "    }\n",
       "\n",
       "    .dataframe tbody tr th {\n",
       "        vertical-align: top;\n",
       "    }\n",
       "\n",
       "    .dataframe thead th {\n",
       "        text-align: right;\n",
       "    }\n",
       "</style>\n",
       "<table border=\"1\" class=\"dataframe\">\n",
       "  <thead>\n",
       "    <tr style=\"text-align: right;\">\n",
       "      <th></th>\n",
       "      <th>0</th>\n",
       "      <th>1</th>\n",
       "      <th>2</th>\n",
       "      <th>3</th>\n",
       "      <th>4</th>\n",
       "      <th>5</th>\n",
       "      <th>6</th>\n",
       "    </tr>\n",
       "  </thead>\n",
       "  <tbody>\n",
       "    <tr>\n",
       "      <th>0</th>\n",
       "      <td>100</td>\n",
       "      <td>3</td>\n",
       "      <td>0</td>\n",
       "      <td>11</td>\n",
       "      <td>11</td>\n",
       "      <td>6</td>\n",
       "      <td>1</td>\n",
       "    </tr>\n",
       "    <tr>\n",
       "      <th>1</th>\n",
       "      <td>2</td>\n",
       "      <td>71</td>\n",
       "      <td>2</td>\n",
       "      <td>9</td>\n",
       "      <td>1</td>\n",
       "      <td>2</td>\n",
       "      <td>0</td>\n",
       "    </tr>\n",
       "    <tr>\n",
       "      <th>2</th>\n",
       "      <td>0</td>\n",
       "      <td>2</td>\n",
       "      <td>138</td>\n",
       "      <td>16</td>\n",
       "      <td>2</td>\n",
       "      <td>2</td>\n",
       "      <td>1</td>\n",
       "    </tr>\n",
       "    <tr>\n",
       "      <th>3</th>\n",
       "      <td>11</td>\n",
       "      <td>3</td>\n",
       "      <td>0</td>\n",
       "      <td>262</td>\n",
       "      <td>13</td>\n",
       "      <td>4</td>\n",
       "      <td>1</td>\n",
       "    </tr>\n",
       "    <tr>\n",
       "      <th>4</th>\n",
       "      <td>3</td>\n",
       "      <td>0</td>\n",
       "      <td>0</td>\n",
       "      <td>16</td>\n",
       "      <td>132</td>\n",
       "      <td>5</td>\n",
       "      <td>1</td>\n",
       "    </tr>\n",
       "    <tr>\n",
       "      <th>5</th>\n",
       "      <td>4</td>\n",
       "      <td>3</td>\n",
       "      <td>2</td>\n",
       "      <td>1</td>\n",
       "      <td>2</td>\n",
       "      <td>95</td>\n",
       "      <td>3</td>\n",
       "    </tr>\n",
       "    <tr>\n",
       "      <th>6</th>\n",
       "      <td>8</td>\n",
       "      <td>0</td>\n",
       "      <td>0</td>\n",
       "      <td>3</td>\n",
       "      <td>1</td>\n",
       "      <td>5</td>\n",
       "      <td>42</td>\n",
       "    </tr>\n",
       "  </tbody>\n",
       "</table>\n",
       "</div>"
      ],
      "text/plain": [
       "     0   1    2    3    4   5   6\n",
       "0  100   3    0   11   11   6   1\n",
       "1    2  71    2    9    1   2   0\n",
       "2    0   2  138   16    2   2   1\n",
       "3   11   3    0  262   13   4   1\n",
       "4    3   0    0   16  132   5   1\n",
       "5    4   3    2    1    2  95   3\n",
       "6    8   0    0    3    1   5  42"
      ]
     },
     "metadata": {},
     "output_type": "display_data"
    },
    {
     "name": "stdout",
     "output_type": "stream",
     "text": [
      "0    128\n",
      "1     82\n",
      "2    142\n",
      "3    318\n",
      "4    162\n",
      "5    119\n",
      "6     49\n",
      "dtype: int64\n"
     ]
    }
   ],
   "source": [
    "new = confusion_matrix(data1A.y[data1A.test_mask].numpy(), pred[data1A.test_mask].numpy())\n",
    "original = pd.DataFrame(data=new)\n",
    "display(original)\n",
    "print(pd.DataFrame(data=new).sum(axis=0))"
   ]
  },
  {
   "cell_type": "code",
   "execution_count": null,
   "id": "688982c8",
   "metadata": {},
   "outputs": [],
   "source": []
  },
  {
   "cell_type": "code",
   "execution_count": null,
   "id": "16b53da8",
   "metadata": {},
   "outputs": [],
   "source": []
  },
  {
   "cell_type": "code",
   "execution_count": null,
   "id": "8e6fecb4",
   "metadata": {},
   "outputs": [],
   "source": []
  },
  {
   "cell_type": "code",
   "execution_count": null,
   "id": "c0dbbebc",
   "metadata": {},
   "outputs": [],
   "source": []
  }
 ],
 "metadata": {
  "kernelspec": {
   "display_name": "Python 3 (ipykernel)",
   "language": "python",
   "name": "python3"
  },
  "language_info": {
   "codemirror_mode": {
    "name": "ipython",
    "version": 3
   },
   "file_extension": ".py",
   "mimetype": "text/x-python",
   "name": "python",
   "nbconvert_exporter": "python",
   "pygments_lexer": "ipython3",
   "version": "3.9.7"
  }
 },
 "nbformat": 4,
 "nbformat_minor": 5
}
